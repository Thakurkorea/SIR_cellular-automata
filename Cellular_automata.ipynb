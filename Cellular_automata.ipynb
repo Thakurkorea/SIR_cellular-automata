{
  "nbformat": 4,
  "nbformat_minor": 0,
  "metadata": {
    "colab": {
      "provenance": []
    },
    "kernelspec": {
      "name": "python3",
      "display_name": "Python 3"
    },
    "language_info": {
      "name": "python"
    }
  },
  "cells": [
    {
      "cell_type": "code",
      "source": [
        "# pip install celluloid"
      ],
      "metadata": {
        "colab": {
          "base_uri": "https://localhost:8080/"
        },
        "id": "XRvCOSdhulpC",
        "outputId": "2d7bec21-3b53-4537-fcf7-1531b9c182b6"
      },
      "execution_count": 12,
      "outputs": [
        {
          "output_type": "stream",
          "name": "stdout",
          "text": [
            "Installing collected packages: celluloid\n",
            "Successfully installed celluloid-0.2.0\n"
          ]
        }
      ]
    },
    {
      "cell_type": "code",
      "execution_count": null,
      "metadata": {
        "id": "78Psyvh4saKd"
      },
      "outputs": [],
      "source": [
        "import numpy as np\n",
        "import random\n",
        "import matplotlib.pyplot as plt\n",
        "from celluloid import Camera\n",
        "fig = plt.figure()\n",
        "camera = Camera(fig)\n",
        "\n",
        "# Define the model parameters\n",
        "grid_size = 10\n",
        "num_pigs = 100\n",
        "initial_infected = 5\n",
        "transmission_rate = 0.8\n",
        "recovery_rate = 0.2\n",
        "\n",
        "# Initialize the grid\n",
        "grid = np.zeros((grid_size, grid_size))\n",
        "\n",
        "# Randomly place pigs on the grid\n",
        "pigs = []\n",
        "for i in range(num_pigs):\n",
        "    x = random.randint(0, grid_size-1)\n",
        "    y = random.randint(0, grid_size-1)\n",
        "    pigs.append((x, y))\n",
        "    grid[x][y] = 1\n",
        "\n",
        "# Randomly infect a few pigs\n",
        "infected = random.sample(pigs, initial_infected)\n",
        "for i in infected:\n",
        "    grid[i[0]][i[1]] = 2\n",
        "\n",
        "# Simulate the spread of the virus\n",
        "for i in range(100):\n",
        "    new_infected = []\n",
        "    for pig in pigs:\n",
        "        if grid[pig[0]][pig[1]] == 2:\n",
        "            # Infect neighboring pigs\n",
        "            neighbors = [(pig[0]-1, pig[1]), (pig[0]+1, pig[1]), (pig[0], pig[1]-1), (pig[0], pig[1]+1)]\n",
        "            for n in neighbors:\n",
        "                if n[0]>=0 and n[0]<grid_size and n[1]>=0 and n[1]<grid_size and grid[n[0]][n[1]] == 1:\n",
        "                    if random.random() < transmission_rate:\n",
        "                        new_infected.append(n)\n",
        "        else:\n",
        "            # Recover infected pigs\n",
        "            if random.random() < recovery_rate:\n",
        "                grid[pig[0]][pig[1]] = 0\n",
        "    \n",
        "    # Update the grid with new infections\n",
        "    for ii in new_infected:\n",
        "        grid[ii[0]][ii[1]] = 2\n",
        "        \n",
        "    # Plot the current state of the grid\n",
        "    plt.imshow(grid, cmap='gray',interpolation='nearest')\n",
        "    plt.text(0.5, 1.01, f'Time:{i}', transform=ax.transAxes)\n",
        "    # print(i)\n",
        "    \n",
        "    camera.snap()\n",
        "    # \n",
        "    # plt.show()\n"
      ]
    },
    {
      "cell_type": "code",
      "source": [
        "animation = camera.animate(interval = 40, repeat = True, repeat_delay = 500)\n",
        "animation.save('animation.mp4')\n"
      ],
      "metadata": {
        "id": "DeLz8Ebxu7Af"
      },
      "execution_count": 100,
      "outputs": []
    },
    {
      "cell_type": "code",
      "source": [
        "# pip install IPython\n",
        "# help(plt.imshow)\n",
        "# help(plt.figure)"
      ],
      "metadata": {
        "id": "1prMDD82zOfN"
      },
      "execution_count": 80,
      "outputs": []
    },
    {
      "cell_type": "code",
      "source": [
        "from IPython.display import HTML\n",
        "# Inline display\n",
        "HTML(animation.to_html5_video())"
      ],
      "metadata": {
        "id": "92EsM567xDiv"
      },
      "execution_count": null,
      "outputs": []
    }
  ]
}